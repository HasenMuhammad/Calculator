{
  "nbformat": 4,
  "nbformat_minor": 0,
  "metadata": {
    "colab": {
      "provenance": []
    },
    "kernelspec": {
      "name": "python3",
      "display_name": "Python 3"
    },
    "language_info": {
      "name": "python"
    }
  },
  "cells": [
    {
      "cell_type": "code",
      "execution_count": 4,
      "metadata": {
        "colab": {
          "base_uri": "https://localhost:8080/"
        },
        "id": "zTDNk5_9ax9n",
        "outputId": "d6b6fb67-bde7-4174-aaa1-0688f294e0d7"
      },
      "outputs": [
        {
          "output_type": "stream",
          "name": "stdout",
          "text": [
            "Please Select a operation:\n",
            "1. Addition\n",
            "2. Subtraction\n",
            "3. Multiplication4. Division\n",
            "5. Average\n",
            "\n",
            "Select a operation from 1,2,3,4,53\n",
            "Enter first number:3\n",
            "Enter second number5\n",
            "3 * 5 = 15\n"
          ]
        }
      ],
      "source": [
        "#Python Program To create Calculator\n",
        "\n",
        "\n",
        "\n",
        "\n",
        "# 3 steps to build calculator program\n",
        "#1. Functions for operations\n",
        "#2. User input\n",
        "#3. Print result\n",
        "\n",
        "\n",
        "\n",
        "#Step1 Create Functions\n",
        "#Function to add two numbers\n",
        "def add(num1, num2):\n",
        " return num1 + num2\n",
        "\n",
        "#Function to subtract two numbers\n",
        "def sub(num1, num2):\n",
        "  return num1- num2\n",
        "\n",
        "#Function To Multiply Two numbers\n",
        "def multiply(num1,num2):\n",
        "  return num1 * num2\n",
        "\n",
        "\n",
        "\n",
        "#Function To divide two numbers\n",
        "def divide(num1,num2):\n",
        "   return num1 / num2\n",
        "\n",
        "#Function To find the mean of two numbers\n",
        "def avg(num1, num2):\n",
        "  return (num1 + num2)/2\n",
        "\n",
        "\n",
        "\n",
        "\n",
        "#Step2: User input\n",
        "print(\"Please Select a operation:\\n\" \\\n",
        "      \"1. Addition\\n\" \\\n",
        "      \"2. Subtraction\\n\" \\\n",
        "      \"3. Multiplication\" \\\n",
        "      \"4. Division\\n\" \\\n",
        "      \"5. Average\\n\")\n",
        "\n",
        "select = int(input(\"Select a operation from 1,2,3,4,5\"))\n",
        "\n",
        "\n",
        "number1 = int(input(\"Enter first number:\"))\n",
        "\n",
        "number2 = int(input(\"Enter second number\"))\n",
        "\n",
        "\n",
        "\n",
        "#Step3 print the result\n",
        "\n",
        "\n",
        "if select ==1:\n",
        "  print(number1, \"+\", number2, \"=\", \\\n",
        "        add(number1, number2))\n",
        "\n",
        "\n",
        "\n",
        "\n",
        "elif select ==2:\n",
        "  print(number1, \"-\", number2, \"=\", \\\n",
        "        sub(number1, number2))\n",
        "\n",
        "\n",
        "elif select ==3:\n",
        "  print(number1, \"*\", number2, \"=\", \\\n",
        "        multiply(number1, number2))\n",
        "\n",
        "\n",
        "elif select == 4:\n",
        "  print(number1, \"/\", number2, \"=\",\\\n",
        "        divide(number1, number2))\n",
        "\n",
        "elif select == 5:\n",
        "  print(\"(\", number1, \"+\", number2, \")\", \"/\", \"2\", \"=\", \\\n",
        "        avg(number1, number2))\n",
        "\n",
        "else:\n",
        "  print(\"Invalid Operation! Please Select Again\")"
      ]
    },
    {
      "cell_type": "code",
      "source": [],
      "metadata": {
        "id": "j9N91a-7b4d5"
      },
      "execution_count": null,
      "outputs": []
    }
  ]
}